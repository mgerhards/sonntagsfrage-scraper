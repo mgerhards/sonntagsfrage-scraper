{
 "cells": [
  {
   "cell_type": "code",
   "execution_count": 1,
   "id": "initial_id",
   "metadata": {
    "ExecuteTime": {
     "end_time": "2024-09-28T20:52:19.479641Z",
     "start_time": "2024-09-28T20:52:19.461161Z"
    },
    "collapsed": true
   },
   "outputs": [],
   "source": [
    "import pandas as pd"
   ]
  },
  {
   "cell_type": "code",
   "execution_count": 3,
   "id": "e3e0ec4b26f5ae8f",
   "metadata": {},
   "outputs": [],
   "source": [
    "df = pd.read_pickle(\"Sonntagsfrage.pkl\")"
   ]
  },
  {
   "cell_type": "code",
   "execution_count": 5,
   "id": "4e66f353",
   "metadata": {},
   "outputs": [
    {
     "data": {
      "text/plain": [
       "Index(['index', 'Unnamed_1', 'CDU/CSU', 'SPD', 'GRÜNE', 'FDP', 'PDS',\n",
       "       'REP/DVU', 'Sonstige', 'Unnamed_8', 'Befragte', 'LINKE', 'PIRATEN',\n",
       "       'AfD', 'Unnamed_10', 'Zeitraum', 'Linke.PDS', 'Rechte', 'Unnamed_9',\n",
       "       'FW', 'BSW', 'Unnamed_11', 'Nichtwähler/Unentschl.', 'REP'],\n",
       "      dtype='object')"
      ]
     },
     "execution_count": 5,
     "metadata": {},
     "output_type": "execute_result"
    }
   ],
   "source": [
    "df.columns"
   ]
  }
 ],
 "metadata": {
  "kernelspec": {
   "display_name": "Python 3 (ipykernel)",
   "language": "python",
   "name": "python3"
  },
  "language_info": {
   "codemirror_mode": {
    "name": "ipython",
    "version": 3
   },
   "file_extension": ".py",
   "mimetype": "text/x-python",
   "name": "python",
   "nbconvert_exporter": "python",
   "pygments_lexer": "ipython3",
   "version": "3.12.5"
  }
 },
 "nbformat": 4,
 "nbformat_minor": 5
}

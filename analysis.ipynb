{
 "cells": [
  {
   "cell_type": "code",
   "id": "initial_id",
   "metadata": {
    "collapsed": true,
    "ExecuteTime": {
     "end_time": "2024-10-07T08:36:53.931013Z",
     "start_time": "2024-10-07T08:36:53.546219Z"
    }
   },
   "source": [
    "import pandas as pd"
   ],
   "outputs": [],
   "execution_count": 1
  },
  {
   "cell_type": "code",
   "id": "e3e0ec4b26f5ae8f",
   "metadata": {
    "ExecuteTime": {
     "end_time": "2024-10-07T08:36:57.978289Z",
     "start_time": "2024-10-07T08:36:57.957849Z"
    }
   },
   "source": [
    "df = pd.read_pickle(\"Sonntagsfrage.pkl\")"
   ],
   "outputs": [],
   "execution_count": 2
  },
  {
   "metadata": {
    "ExecuteTime": {
     "end_time": "2024-10-07T09:23:35.165620Z",
     "start_time": "2024-10-07T09:23:35.159463Z"
    }
   },
   "cell_type": "code",
   "source": "df.columns",
   "id": "4e66f353",
   "outputs": [
    {
     "data": {
      "text/plain": [
       "Index(['index', 'Unnamed_1', 'CDU/CSU', 'SPD', 'GRÜNE', 'FDP', 'LINKE',\n",
       "       'Sonstige', 'Unnamed_8', 'Befragte', 'Zeitraum', 'AfD', 'FW', 'BSW',\n",
       "       'Unnamed_11', 'PDS', 'Rechte', 'PIRATEN', 'Linke.PDS', 'REP/DVU',\n",
       "       'Unnamed_10', 'Unnamed_9', 'Nichtwähler/Unentschl.', 'REP'],\n",
       "      dtype='object')"
      ]
     },
     "execution_count": 4,
     "metadata": {},
     "output_type": "execute_result"
    }
   ],
   "execution_count": 4
  },
  {
   "metadata": {
    "ExecuteTime": {
     "end_time": "2024-10-07T09:25:18.118895Z",
     "start_time": "2024-10-07T09:25:18.114574Z"
    }
   },
   "cell_type": "code",
   "source": "cols = ['CDU/CSU', 'SPD', 'GRÜNE', 'FDP', 'LINKE','AfD', 'FW', 'BSW', 'PDS', 'Rechte', 'PIRATEN', 'Linke.PDS', 'REP/DVU', 'REP']",
   "id": "a8894eb077b5d374",
   "outputs": [],
   "execution_count": 5
  },
  {
   "metadata": {
    "ExecuteTime": {
     "end_time": "2024-10-07T09:27:31.799932Z",
     "start_time": "2024-10-07T09:27:31.781635Z"
    }
   },
   "cell_type": "code",
   "source": "df[cols].to_pickle(\"Sonntagsfrage_cleaned.pkl\")",
   "id": "2a69e2ae8874fc59",
   "outputs": [],
   "execution_count": 8
  },
  {
   "metadata": {
    "ExecuteTime": {
     "end_time": "2024-10-07T09:28:55.921319Z",
     "start_time": "2024-10-07T09:28:55.884942Z"
    }
   },
   "cell_type": "code",
   "source": "df[cols].to_csv(\"Sonntagsfrage_cleaned.csv\")",
   "id": "de073c10bb03aa11",
   "outputs": [],
   "execution_count": 9
  },
  {
   "metadata": {
    "ExecuteTime": {
     "end_time": "2024-10-07T09:51:09.585642Z",
     "start_time": "2024-10-07T09:51:09.578641Z"
    }
   },
   "cell_type": "code",
   "source": "df_cleaned = df[cols]",
   "id": "a2ecf98b9168f5b",
   "outputs": [],
   "execution_count": 18
  },
  {
   "metadata": {
    "ExecuteTime": {
     "end_time": "2024-10-07T09:51:10.831997Z",
     "start_time": "2024-10-07T09:51:10.805140Z"
    }
   },
   "cell_type": "code",
   "source": [
    "df_cleaned.reset_index(inplace=True)\n",
    "df_cleaned['s_datum'] = df_cleaned['datum']\n",
    "#df_cleaned['datum'] = pd.to_datetime(df_cleaned['s_datum'], format='%d.%m.%Y', errors='coerce')\n",
    "df_cleaned.loc[:, 'datum'] = pd.to_datetime(df_cleaned['s_datum'], format='%d.%m.%Y', errors='coerce')"
   ],
   "id": "3ac0632352cda99b",
   "outputs": [
    {
     "name": "stderr",
     "output_type": "stream",
     "text": [
      "C:\\Users\\Markus\\AppData\\Local\\Temp\\ipykernel_6816\\2057824381.py:2: SettingWithCopyWarning: \n",
      "A value is trying to be set on a copy of a slice from a DataFrame.\n",
      "Try using .loc[row_indexer,col_indexer] = value instead\n",
      "\n",
      "See the caveats in the documentation: https://pandas.pydata.org/pandas-docs/stable/user_guide/indexing.html#returning-a-view-versus-a-copy\n",
      "  df_cleaned['s_datum'] = df_cleaned['datum']\n",
      "C:\\Users\\Markus\\AppData\\Local\\Temp\\ipykernel_6816\\2057824381.py:3: SettingWithCopyWarning: \n",
      "A value is trying to be set on a copy of a slice from a DataFrame.\n",
      "Try using .loc[row_indexer,col_indexer] = value instead\n",
      "\n",
      "See the caveats in the documentation: https://pandas.pydata.org/pandas-docs/stable/user_guide/indexing.html#returning-a-view-versus-a-copy\n",
      "  df_cleaned['datum'] = pd.to_datetime(df_cleaned['s_datum'], format='%d.%m.%Y', errors='coerce')\n"
     ]
    }
   ],
   "execution_count": 19
  },
  {
   "metadata": {
    "ExecuteTime": {
     "end_time": "2024-10-07T09:51:41.244113Z",
     "start_time": "2024-10-07T09:51:41.237310Z"
    }
   },
   "cell_type": "code",
   "source": "df_cleaned = df_cleaned.dropna(subset=['datum'])",
   "id": "cb51f03c4c3f38f4",
   "outputs": [],
   "execution_count": 20
  },
  {
   "metadata": {
    "ExecuteTime": {
     "end_time": "2024-10-07T09:51:47.182712Z",
     "start_time": "2024-10-07T09:51:47.168545Z"
    }
   },
   "cell_type": "code",
   "source": "df_cleaned",
   "id": "3f22474f6ddeb430",
   "outputs": [
    {
     "data": {
      "text/plain": [
       "          datum             org CDU/CSU    SPD  GRÜNE    FDP  LINKE  AfD   FW  \\\n",
       "0    2007-12-06           dimap     40     28      9      9     11   NaN  NaN   \n",
       "1    2007-11-15           dimap     41     30      9      8      9   NaN  NaN   \n",
       "2    2007-11-01           dimap     40     30      8      8     10   NaN  NaN   \n",
       "3    2007-10-18           dimap     41     28     10      7     10   NaN  NaN   \n",
       "4    2007-10-04           dimap     40     27     10      8     11   NaN  NaN   \n",
       "...         ...             ...     ...    ...    ...    ...    ...  ...  ...   \n",
       "5563 2009-11-27  politbarometer     35     24     10     13     12        NaN   \n",
       "5564 2009-10-30  politbarometer     36     22     11     13     13        NaN   \n",
       "5565 2009-10-16  politbarometer     35     22     11     14     13        NaN   \n",
       "5566 2009-10-02  politbarometer     35     22     11     14     13        NaN   \n",
       "5567 2009-09-27  politbarometer   33.8   23.0   10.7   14.6   11.9        NaN   \n",
       "\n",
       "      BSW  PDS Rechte PIRATEN Linke.PDS REP/DVU  REP     s_datum  \n",
       "0     NaN  NaN    NaN     NaN       NaN     NaN  NaN  06.12.2007  \n",
       "1     NaN  NaN    NaN     NaN       NaN     NaN  NaN  15.11.2007  \n",
       "2     NaN  NaN    NaN     NaN       NaN     NaN  NaN  01.11.2007  \n",
       "3     NaN  NaN    NaN     NaN       NaN     NaN  NaN  18.10.2007  \n",
       "4     NaN  NaN    NaN     NaN       NaN     NaN  NaN  04.10.2007  \n",
       "...   ...  ...    ...     ...       ...     ...  ...         ...  \n",
       "5563  NaN  NaN    NaN               NaN     NaN  NaN  27.11.2009  \n",
       "5564  NaN  NaN    NaN               NaN     NaN  NaN  30.10.2009  \n",
       "5565  NaN  NaN    NaN               NaN     NaN  NaN  16.10.2009  \n",
       "5566  NaN  NaN    NaN               NaN     NaN  NaN  02.10.2009  \n",
       "5567  NaN  NaN    NaN    2.0        NaN     NaN  NaN  27.09.2009  \n",
       "\n",
       "[5492 rows x 17 columns]"
      ],
      "text/html": [
       "<div>\n",
       "<style scoped>\n",
       "    .dataframe tbody tr th:only-of-type {\n",
       "        vertical-align: middle;\n",
       "    }\n",
       "\n",
       "    .dataframe tbody tr th {\n",
       "        vertical-align: top;\n",
       "    }\n",
       "\n",
       "    .dataframe thead th {\n",
       "        text-align: right;\n",
       "    }\n",
       "</style>\n",
       "<table border=\"1\" class=\"dataframe\">\n",
       "  <thead>\n",
       "    <tr style=\"text-align: right;\">\n",
       "      <th></th>\n",
       "      <th>datum</th>\n",
       "      <th>org</th>\n",
       "      <th>CDU/CSU</th>\n",
       "      <th>SPD</th>\n",
       "      <th>GRÜNE</th>\n",
       "      <th>FDP</th>\n",
       "      <th>LINKE</th>\n",
       "      <th>AfD</th>\n",
       "      <th>FW</th>\n",
       "      <th>BSW</th>\n",
       "      <th>PDS</th>\n",
       "      <th>Rechte</th>\n",
       "      <th>PIRATEN</th>\n",
       "      <th>Linke.PDS</th>\n",
       "      <th>REP/DVU</th>\n",
       "      <th>REP</th>\n",
       "      <th>s_datum</th>\n",
       "    </tr>\n",
       "  </thead>\n",
       "  <tbody>\n",
       "    <tr>\n",
       "      <th>0</th>\n",
       "      <td>2007-12-06</td>\n",
       "      <td>dimap</td>\n",
       "      <td>40</td>\n",
       "      <td>28</td>\n",
       "      <td>9</td>\n",
       "      <td>9</td>\n",
       "      <td>11</td>\n",
       "      <td>NaN</td>\n",
       "      <td>NaN</td>\n",
       "      <td>NaN</td>\n",
       "      <td>NaN</td>\n",
       "      <td>NaN</td>\n",
       "      <td>NaN</td>\n",
       "      <td>NaN</td>\n",
       "      <td>NaN</td>\n",
       "      <td>NaN</td>\n",
       "      <td>06.12.2007</td>\n",
       "    </tr>\n",
       "    <tr>\n",
       "      <th>1</th>\n",
       "      <td>2007-11-15</td>\n",
       "      <td>dimap</td>\n",
       "      <td>41</td>\n",
       "      <td>30</td>\n",
       "      <td>9</td>\n",
       "      <td>8</td>\n",
       "      <td>9</td>\n",
       "      <td>NaN</td>\n",
       "      <td>NaN</td>\n",
       "      <td>NaN</td>\n",
       "      <td>NaN</td>\n",
       "      <td>NaN</td>\n",
       "      <td>NaN</td>\n",
       "      <td>NaN</td>\n",
       "      <td>NaN</td>\n",
       "      <td>NaN</td>\n",
       "      <td>15.11.2007</td>\n",
       "    </tr>\n",
       "    <tr>\n",
       "      <th>2</th>\n",
       "      <td>2007-11-01</td>\n",
       "      <td>dimap</td>\n",
       "      <td>40</td>\n",
       "      <td>30</td>\n",
       "      <td>8</td>\n",
       "      <td>8</td>\n",
       "      <td>10</td>\n",
       "      <td>NaN</td>\n",
       "      <td>NaN</td>\n",
       "      <td>NaN</td>\n",
       "      <td>NaN</td>\n",
       "      <td>NaN</td>\n",
       "      <td>NaN</td>\n",
       "      <td>NaN</td>\n",
       "      <td>NaN</td>\n",
       "      <td>NaN</td>\n",
       "      <td>01.11.2007</td>\n",
       "    </tr>\n",
       "    <tr>\n",
       "      <th>3</th>\n",
       "      <td>2007-10-18</td>\n",
       "      <td>dimap</td>\n",
       "      <td>41</td>\n",
       "      <td>28</td>\n",
       "      <td>10</td>\n",
       "      <td>7</td>\n",
       "      <td>10</td>\n",
       "      <td>NaN</td>\n",
       "      <td>NaN</td>\n",
       "      <td>NaN</td>\n",
       "      <td>NaN</td>\n",
       "      <td>NaN</td>\n",
       "      <td>NaN</td>\n",
       "      <td>NaN</td>\n",
       "      <td>NaN</td>\n",
       "      <td>NaN</td>\n",
       "      <td>18.10.2007</td>\n",
       "    </tr>\n",
       "    <tr>\n",
       "      <th>4</th>\n",
       "      <td>2007-10-04</td>\n",
       "      <td>dimap</td>\n",
       "      <td>40</td>\n",
       "      <td>27</td>\n",
       "      <td>10</td>\n",
       "      <td>8</td>\n",
       "      <td>11</td>\n",
       "      <td>NaN</td>\n",
       "      <td>NaN</td>\n",
       "      <td>NaN</td>\n",
       "      <td>NaN</td>\n",
       "      <td>NaN</td>\n",
       "      <td>NaN</td>\n",
       "      <td>NaN</td>\n",
       "      <td>NaN</td>\n",
       "      <td>NaN</td>\n",
       "      <td>04.10.2007</td>\n",
       "    </tr>\n",
       "    <tr>\n",
       "      <th>...</th>\n",
       "      <td>...</td>\n",
       "      <td>...</td>\n",
       "      <td>...</td>\n",
       "      <td>...</td>\n",
       "      <td>...</td>\n",
       "      <td>...</td>\n",
       "      <td>...</td>\n",
       "      <td>...</td>\n",
       "      <td>...</td>\n",
       "      <td>...</td>\n",
       "      <td>...</td>\n",
       "      <td>...</td>\n",
       "      <td>...</td>\n",
       "      <td>...</td>\n",
       "      <td>...</td>\n",
       "      <td>...</td>\n",
       "      <td>...</td>\n",
       "    </tr>\n",
       "    <tr>\n",
       "      <th>5563</th>\n",
       "      <td>2009-11-27</td>\n",
       "      <td>politbarometer</td>\n",
       "      <td>35</td>\n",
       "      <td>24</td>\n",
       "      <td>10</td>\n",
       "      <td>13</td>\n",
       "      <td>12</td>\n",
       "      <td></td>\n",
       "      <td>NaN</td>\n",
       "      <td>NaN</td>\n",
       "      <td>NaN</td>\n",
       "      <td>NaN</td>\n",
       "      <td></td>\n",
       "      <td>NaN</td>\n",
       "      <td>NaN</td>\n",
       "      <td>NaN</td>\n",
       "      <td>27.11.2009</td>\n",
       "    </tr>\n",
       "    <tr>\n",
       "      <th>5564</th>\n",
       "      <td>2009-10-30</td>\n",
       "      <td>politbarometer</td>\n",
       "      <td>36</td>\n",
       "      <td>22</td>\n",
       "      <td>11</td>\n",
       "      <td>13</td>\n",
       "      <td>13</td>\n",
       "      <td></td>\n",
       "      <td>NaN</td>\n",
       "      <td>NaN</td>\n",
       "      <td>NaN</td>\n",
       "      <td>NaN</td>\n",
       "      <td></td>\n",
       "      <td>NaN</td>\n",
       "      <td>NaN</td>\n",
       "      <td>NaN</td>\n",
       "      <td>30.10.2009</td>\n",
       "    </tr>\n",
       "    <tr>\n",
       "      <th>5565</th>\n",
       "      <td>2009-10-16</td>\n",
       "      <td>politbarometer</td>\n",
       "      <td>35</td>\n",
       "      <td>22</td>\n",
       "      <td>11</td>\n",
       "      <td>14</td>\n",
       "      <td>13</td>\n",
       "      <td></td>\n",
       "      <td>NaN</td>\n",
       "      <td>NaN</td>\n",
       "      <td>NaN</td>\n",
       "      <td>NaN</td>\n",
       "      <td></td>\n",
       "      <td>NaN</td>\n",
       "      <td>NaN</td>\n",
       "      <td>NaN</td>\n",
       "      <td>16.10.2009</td>\n",
       "    </tr>\n",
       "    <tr>\n",
       "      <th>5566</th>\n",
       "      <td>2009-10-02</td>\n",
       "      <td>politbarometer</td>\n",
       "      <td>35</td>\n",
       "      <td>22</td>\n",
       "      <td>11</td>\n",
       "      <td>14</td>\n",
       "      <td>13</td>\n",
       "      <td></td>\n",
       "      <td>NaN</td>\n",
       "      <td>NaN</td>\n",
       "      <td>NaN</td>\n",
       "      <td>NaN</td>\n",
       "      <td></td>\n",
       "      <td>NaN</td>\n",
       "      <td>NaN</td>\n",
       "      <td>NaN</td>\n",
       "      <td>02.10.2009</td>\n",
       "    </tr>\n",
       "    <tr>\n",
       "      <th>5567</th>\n",
       "      <td>2009-09-27</td>\n",
       "      <td>politbarometer</td>\n",
       "      <td>33.8</td>\n",
       "      <td>23.0</td>\n",
       "      <td>10.7</td>\n",
       "      <td>14.6</td>\n",
       "      <td>11.9</td>\n",
       "      <td></td>\n",
       "      <td>NaN</td>\n",
       "      <td>NaN</td>\n",
       "      <td>NaN</td>\n",
       "      <td>NaN</td>\n",
       "      <td>2.0</td>\n",
       "      <td>NaN</td>\n",
       "      <td>NaN</td>\n",
       "      <td>NaN</td>\n",
       "      <td>27.09.2009</td>\n",
       "    </tr>\n",
       "  </tbody>\n",
       "</table>\n",
       "<p>5492 rows × 17 columns</p>\n",
       "</div>"
      ]
     },
     "execution_count": 21,
     "metadata": {},
     "output_type": "execute_result"
    }
   ],
   "execution_count": 21
  },
  {
   "metadata": {
    "ExecuteTime": {
     "end_time": "2024-10-07T10:49:43.162264Z",
     "start_time": "2024-10-07T10:49:43.153660Z"
    }
   },
   "cell_type": "code",
   "source": [
    "df_cleaned.loc[:, 'month'] = df_cleaned['datum'].dt.month\n",
    "df_cleaned.loc[:, 'year'] = df_cleaned['datum'].dt.year\n",
    "df_cleaned.loc[:, 'week_of_year'] = df_cleaned['datum'].dt.isocalendar().week\n"
   ],
   "id": "5588417be2bda918",
   "outputs": [],
   "execution_count": 24
  },
  {
   "metadata": {
    "ExecuteTime": {
     "end_time": "2024-10-07T11:00:09.714958Z",
     "start_time": "2024-10-07T11:00:09.669184Z"
    }
   },
   "cell_type": "code",
   "source": [
    "ccols = ['datum', 'year', 'month', 'week_of_year', 'org', 'CDU/CSU', 'SPD', 'GRÜNE', 'FDP', 'LINKE', 'AfD', 'FW', 'BSW', 'PDS', 'Rechte', 'PIRATEN', 'Linke.PDS',\n",
    "            'REP/DVU', 'REP']\n",
    "df_cleaned[ccols].to_pickle(\"Sonntagsfrage_cleaned.pkl\")\n",
    "df_cleaned[ccols].to_csv(\"Sonntagsfrage_cleaned.csv\")"
   ],
   "id": "3e50710f8a5e6cf8",
   "outputs": [],
   "execution_count": 27
  }
 ],
 "metadata": {
  "kernelspec": {
   "display_name": "Python 3 (ipykernel)",
   "language": "python",
   "name": "python3"
  },
  "language_info": {
   "codemirror_mode": {
    "name": "ipython",
    "version": 3
   },
   "file_extension": ".py",
   "mimetype": "text/x-python",
   "name": "python",
   "nbconvert_exporter": "python",
   "pygments_lexer": "ipython3",
   "version": "3.12.5"
  }
 },
 "nbformat": 4,
 "nbformat_minor": 5
}

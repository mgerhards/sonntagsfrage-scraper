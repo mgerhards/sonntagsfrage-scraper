{
 "cells": [
  {
   "cell_type": "code",
   "id": "initial_id",
   "metadata": {
    "collapsed": true,
    "ExecuteTime": {
     "end_time": "2024-10-07T08:36:53.931013Z",
     "start_time": "2024-10-07T08:36:53.546219Z"
    }
   },
   "source": [
    "import pandas as pd"
   ],
   "outputs": [],
   "execution_count": 1
  },
  {
   "cell_type": "code",
   "id": "e3e0ec4b26f5ae8f",
   "metadata": {
    "ExecuteTime": {
     "end_time": "2024-10-07T08:36:57.978289Z",
     "start_time": "2024-10-07T08:36:57.957849Z"
    }
   },
   "source": [
    "df = pd.read_pickle(\"Sonntagsfrage.pkl\")"
   ],
   "outputs": [],
   "execution_count": 2
  },
  {
   "metadata": {
    "ExecuteTime": {
     "end_time": "2024-10-07T09:23:35.165620Z",
     "start_time": "2024-10-07T09:23:35.159463Z"
    }
   },
   "cell_type": "code",
   "source": "df.columns",
   "id": "4e66f353",
   "outputs": [
    {
     "data": {
      "text/plain": [
       "Index(['index', 'Unnamed_1', 'CDU/CSU', 'SPD', 'GRÜNE', 'FDP', 'LINKE',\n",
       "       'Sonstige', 'Unnamed_8', 'Befragte', 'Zeitraum', 'AfD', 'FW', 'BSW',\n",
       "       'Unnamed_11', 'PDS', 'Rechte', 'PIRATEN', 'Linke.PDS', 'REP/DVU',\n",
       "       'Unnamed_10', 'Unnamed_9', 'Nichtwähler/Unentschl.', 'REP'],\n",
       "      dtype='object')"
      ]
     },
     "execution_count": 4,
     "metadata": {},
     "output_type": "execute_result"
    }
   ],
   "execution_count": 4
  },
  {
   "metadata": {
    "ExecuteTime": {
     "end_time": "2024-10-07T09:25:18.118895Z",
     "start_time": "2024-10-07T09:25:18.114574Z"
    }
   },
   "cell_type": "code",
   "source": "cols = ['CDU/CSU', 'SPD', 'GRÜNE', 'FDP', 'LINKE','AfD', 'FW', 'BSW', 'PDS', 'Rechte', 'PIRATEN', 'Linke.PDS', 'REP/DVU', 'REP']",
   "id": "a8894eb077b5d374",
   "outputs": [],
   "execution_count": 5
  },
  {
   "metadata": {
    "ExecuteTime": {
     "end_time": "2024-10-07T09:27:31.799932Z",
     "start_time": "2024-10-07T09:27:31.781635Z"
    }
   },
   "cell_type": "code",
   "source": "df[cols].to_pickle(\"Sonntagsfrage_cleaned.pkl\")",
   "id": "2a69e2ae8874fc59",
   "outputs": [],
   "execution_count": 8
  },
  {
   "metadata": {
    "ExecuteTime": {
     "end_time": "2024-10-07T09:28:55.921319Z",
     "start_time": "2024-10-07T09:28:55.884942Z"
    }
   },
   "cell_type": "code",
   "source": "df[cols].to_csv(\"Sonntagsfrage_cleaned.csv\")",
   "id": "de073c10bb03aa11",
   "outputs": [],
   "execution_count": 9
  }
 ],
 "metadata": {
  "kernelspec": {
   "display_name": "Python 3 (ipykernel)",
   "language": "python",
   "name": "python3"
  },
  "language_info": {
   "codemirror_mode": {
    "name": "ipython",
    "version": 3
   },
   "file_extension": ".py",
   "mimetype": "text/x-python",
   "name": "python",
   "nbconvert_exporter": "python",
   "pygments_lexer": "ipython3",
   "version": "3.12.5"
  }
 },
 "nbformat": 4,
 "nbformat_minor": 5
}
